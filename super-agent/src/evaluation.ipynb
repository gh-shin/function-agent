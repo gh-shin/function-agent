{
 "cells": [
  {
   "cell_type": "code",
   "execution_count": null,
   "id": "6a5d28ac",
   "metadata": {},
   "outputs": [],
   "source": [
    "from langchain.tools import Tool\n",
    "from openai import OpenAI\n",
    "\n",
    "import os\n",
    "from dotenv import load_dotenv\n",
    "from langchain_openai import ChatOpenAI\n",
    "from langchain.agents import tool, AgentExecutor, create_openai_functions_agent\n",
    "from langchain_core.prompts import ChatPromptTemplate, MessagesPlaceholder\n",
    "from langchain_core.messages import HumanMessage, AIMessage\n",
    "from datetime import datetime, timedelta\n",
    "\n",
    "load_dotenv()\n",
    "from dateutil.parser import parse as parse_datetime\n",
    "\n",
    "import sys\n",
    "\n",
    "sys.path.append(\"/app/ica_project2/function-agent/\")\n",
    "from business_sub_agent import create_business_sub_agent\n",
    "from life_sub_agent import create_life_sub_agent\n",
    "from search_sub_agent import create_search_sub_agent\n",
    "\n",
    "# 각 분야별 sub agent\n",
    "business_agent = create_business_sub_agent(eval_mode=True)\n",
    "life_agent = create_life_sub_agent(eval_mode=True)\n",
    "search_agent = create_search_sub_agent(eval_mode=True)\n",
    "\n",
    "\n",
    "# orchestrator tools\n",
    "orchestrator_tools = [\n",
    "    Tool(\n",
    "        name=\"business_assitant\",\n",
    "        func=lambda user_input: business_agent.invoke(\n",
    "            {\n",
    "                \"input\": user_input,\n",
    "            }\n",
    "        ),\n",
    "        description=\"\"\" \n",
    "            해당 도구는 업무를 보조하는 agent 입니다. \n",
    "            1. 메일을 검색하거나 메일 초록을 작성하거나, 메일 내용을 요약이 필요할때 활용할 수 있습니다.\n",
    "            2. 캘린더 일정을 확인하거나 생성, 수정, 삭제하는 등이 필요할때 활용할 수 있습니다.\"\"\",\n",
    "    ),\n",
    "    Tool(\n",
    "        name=\"search_assistant\",\n",
    "        func=lambda user_input: search_agent.invoke(\n",
    "            {\n",
    "                \"input\": user_input,\n",
    "            }\n",
    "        ),\n",
    "        description=\"\"\"\n",
    "            해당 도구는 사용자의 요청에 맞는 정보를 검색하는 agent 입니다.\n",
    "            1. 일반적인 웹 검색이 가능하고.\n",
    "            2. 특정 도메인에 대한 전문 검색도 가능합니다.\n",
    "            3. 필요한 정보를 직접 찾아볼 수 있게 링크만 정리해줄 수 도 있습니다.\n",
    "            \"\"\",\n",
    "    ),\n",
    "    Tool(\n",
    "        name=\"life_assistant\",\n",
    "        func=lambda user_input: life_agent.invoke(\n",
    "            {\n",
    "                \"input\": user_input,\n",
    "            }\n",
    "        ),\n",
    "        description=\"\"\"\n",
    "            해당 도구는 생활 편의성을 돕는 어시스턴트입니다.\n",
    "            1. 사용자가 장소를 검색하고자 할 때 사용할 수 있습니다.\n",
    "            2. 특정 장소에 대한 날씨 검색 혹은 장소 추천 시 날씨 검색을 할 때 사용할 수 있습니다.\n",
    "            3. 쇼핑 상품을 검색하거나 장바구니에 저장하고자 할 때 사용할 수 있습니다.\n",
    "            \"\"\",\n",
    "    ),\n",
    "]\n",
    "\n",
    "\n",
    "def create_super_agent(today_str: str):\n",
    "    now = datetime.now().strftime(\"%Y-%m-%d\")\n",
    "    prompt = ChatPromptTemplate.from_messages(\n",
    "        [\n",
    "            (\n",
    "                \"system\",\n",
    "                f\"\"\"You are a master AI assistant (super agent). 당신은 사용자의 복잡한 요청을 분석하여, 각 분야의 전문가 어시스턴트에게 작업을 정확히 분배하는 역할을 합니다.\n",
    "                사용 가능한 전문가 목록은 다음과 같습니다:\n",
    "                    - business_assitant : 해당 도구는 업무를 보조하는 agent 입니다. \n",
    "                    - search_assistant : 해당 도구는 사용자의 요청(장소와 관련된 것을 제외)에 맞는 정보를 검색하는 agent 입니다. \n",
    "                    - life_assistant : 해당 도구는 생활 편의성을 돕는 어시스턴트입니다.\n",
    "\n",
    "                오늘 날짜는 {now} 입니다다\n",
    "                \"\"\",\n",
    "            ),\n",
    "            MessagesPlaceholder(variable_name=\"chat_history\", optional=True),\n",
    "            (\"human\", \"{input}\"),\n",
    "            MessagesPlaceholder(variable_name=\"agent_scratchpad\"),\n",
    "        ]\n",
    "    )\n",
    "\n",
    "    llm = ChatOpenAI(model=\"gpt-4.1-mini\", temperature=0)\n",
    "\n",
    "    agent = create_openai_functions_agent(llm, orchestrator_tools, prompt)\n",
    "    agent_executor = AgentExecutor(agent=agent, tools=orchestrator_tools, verbose=True, return_intermediate_steps=True)\n",
    "\n",
    "    return agent_executor\n"
   ]
  },
  {
   "cell_type": "code",
   "execution_count": null,
   "id": "834b77f6",
   "metadata": {},
   "outputs": [],
   "source": [
    "\n",
    "\n",
    "from evaluation_data import EVALUATION_SET\n",
    "\n",
    "\n",
    "load_dotenv()\n",
    "today_str = datetime.now().strftime(\"%Y-%m-%d\")\n",
    "super_agent = create_super_agent(today_str = today_str)\n",
    "\n",
    "for eval_data in EVALUATION_SET:\n",
    "    \n",
    "    eval_data = EVALUATION_SET[10]\n",
    "    query = eval_data['query']\n",
    "    total_step = len(eval_data['expected_tool_calls'])\n",
    "    \n",
    "    today_str = datetime.now().strftime(\"%Y-%m-%d\")\n",
    "    today_str += f\" AM 10:30\"\n",
    "\n",
    "    print(f\"\\n==================================================\")\n",
    "    print(f\"[사용자 쿼리]: {query}\")\n",
    "    print(f\"==================================================\")\n",
    "\n",
    "    result = super_agent.invoke({\n",
    "        \"input\": query,\n",
    "        \"today\": today_str,\n",
    "        \"chat_history\": []\n",
    "    })\n",
    "\n",
    "    ai_response = result['output']\n",
    "    print(f\"\\n[슈퍼 에이전트 최종 답변]: {ai_response}\")\n",
    "    print(result['intermediate_steps'])\n",
    "    acc_depth_1 = 0\n",
    "    acc_depth_2 = 0\n",
    "    for i in range(total_step):\n",
    "        try:\n",
    "            each_step = eval_data['expected_tool_calls'][i]\n",
    "            if each_step['agent_name'] == result['intermediate_steps'][i][0].tool:\n",
    "                acc_depth_1 += 1\n",
    "            if each_step['function_name'] == result['intermediate_steps'][i][1]['intermediate_steps'][0][0].tool:\n",
    "                acc_depth_2 += 1\n",
    "        except:\n",
    "            pass\n",
    "        \n",
    "    print(f'accuracy : {(acc_depth_1,total_step), (acc_depth_2,total_step)}')\n",
    "    break\n",
    "\n"
   ]
  },
  {
   "cell_type": "code",
   "execution_count": null,
   "id": "88efba68",
   "metadata": {},
   "outputs": [],
   "source": [
    "query\n"
   ]
  },
  {
   "cell_type": "code",
   "execution_count": null,
   "id": "a6dd1cb5",
   "metadata": {},
   "outputs": [],
   "source": []
  },
  {
   "cell_type": "code",
   "execution_count": null,
   "id": "859fc02b",
   "metadata": {},
   "outputs": [],
   "source": [
    "each_step"
   ]
  },
  {
   "cell_type": "code",
   "execution_count": null,
   "id": "c2f3fe76",
   "metadata": {},
   "outputs": [],
   "source": [
    "result['intermediate_steps']"
   ]
  },
  {
   "cell_type": "code",
   "execution_count": null,
   "id": "e91732a1",
   "metadata": {},
   "outputs": [],
   "source": [
    "print({'어린왕자라는 책의 줄거리좀 알려줄래?': 'accuracy : (0, 0), (0, 0)', 'LLM과 RAG 차이를 잘 모르겠어 알려줘': 'accuracy : (0, 0), (0, 0)', 'LLM과 RAG의 차이를 검색을 해서 알려줘': 'accuracy : (1, 1), (0, 1)', '오늘 종목 추천해줘': 'accuracy : (0, 1), (0, 1)', '홍길동이랑 주고받은 최근 메일 요약해줘': 'accuracy : (1, 1), (1, 1)', \"최신 AI 기술 동향에 대해 TechCrunch에서 검색해서, 그 내용을 바탕으로 우리 팀에게 공유할 메일 초안을 작성해줘. 받는 사람은 'dev_team@mycompany.com' 이야.\": 'accuracy : (2, 2), (1, 2)', '오늘 오후 스케쥴에 맞춰 잠깐 한시간정도 쇼핑할만한 장소 추천해줘': 'accuracy : (0, 2), (0, 2)', '이번 주말에 가족과 나들이 갈만한 곳을 추천해줘': 'accuracy : (0, 2), (0, 2)', '오늘 있었던 팀 KPI 회의록 요약해서 박기훈 팀장님에게 보낼 수 있게 메일 내용을 작성해줘': 'accuracy : (0, 2), (0, 2)', '오늘 주말에 민수랑 저녁먹으려고 하는데 강남에 술한잔하기 괜찮은데 알려주고 캘린더에 등록좀 해줘.': 'accuracy : (1, 2), (1, 2)', '주말에 우리 뽀미 데리고 놀러갈건데 강원도에 애견펜션 알려줘. 혹시 그 애견펜션 근처에 강아지 데리고 갈만한 곳들은 없어?, 찾은 곳들로 주말 일정을 등록해줘': 'accuracy : (0, 3), (0, 3)'})"
   ]
  },
  {
   "cell_type": "code",
   "execution_count": null,
   "id": "060c3dcc",
   "metadata": {},
   "outputs": [],
   "source": [
    "acc_depth_1"
   ]
  },
  {
   "cell_type": "code",
   "execution_count": null,
   "id": "51b02963",
   "metadata": {},
   "outputs": [],
   "source": [
    "acc_depth_2"
   ]
  },
  {
   "cell_type": "code",
   "execution_count": null,
   "id": "8fea0f0c",
   "metadata": {},
   "outputs": [],
   "source": []
  },
  {
   "cell_type": "code",
   "execution_count": null,
   "id": "b083f245",
   "metadata": {},
   "outputs": [],
   "source": []
  },
  {
   "cell_type": "code",
   "execution_count": null,
   "id": "a8db19c5",
   "metadata": {},
   "outputs": [],
   "source": []
  },
  {
   "cell_type": "code",
   "execution_count": null,
   "id": "3cb577bd",
   "metadata": {},
   "outputs": [],
   "source": [
    "result['intermediate_steps']"
   ]
  },
  {
   "cell_type": "code",
   "execution_count": null,
   "id": "a1672d77",
   "metadata": {},
   "outputs": [],
   "source": []
  }
 ],
 "metadata": {
  "kernelspec": {
   "display_name": "Python 3",
   "language": "python",
   "name": "python3"
  },
  "language_info": {
   "codemirror_mode": {
    "name": "ipython",
    "version": 3
   },
   "file_extension": ".py",
   "mimetype": "text/x-python",
   "name": "python",
   "nbconvert_exporter": "python",
   "pygments_lexer": "ipython3",
   "version": "3.12.11"
  }
 },
 "nbformat": 4,
 "nbformat_minor": 5
}
